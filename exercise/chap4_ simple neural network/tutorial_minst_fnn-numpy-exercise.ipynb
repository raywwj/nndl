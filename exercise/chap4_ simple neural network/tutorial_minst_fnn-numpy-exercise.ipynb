{
  "cells": [
    {
      "cell_type": "markdown",
      "metadata": {
        "id": "O6eOGdrh85F2"
      },
      "source": [
        "## 准备数据"
      ]
    },
    {
      "cell_type": "code",
      "execution_count": 1,
      "metadata": {
        "id": "6qmdI79285F3"
      },
      "outputs": [],
      "source": [
        "import os\n",
        "import numpy as np\n",
        "import tensorflow as tf\n",
        "from tensorflow import keras\n",
        "from tensorflow.keras import layers, optimizers, datasets\n",
        "\n",
        "os.environ['TF_CPP_MIN_LOG_LEVEL'] = '2'  # or any {'0', '1', '2'}\n",
        "\n",
        "def mnist_dataset():\n",
        "    (x, y), (x_test, y_test) = datasets.mnist.load_data()\n",
        "    #normalize\n",
        "    x = x/255.0\n",
        "    x_test = x_test/255.0\n",
        "\n",
        "    return (x, y), (x_test, y_test)"
      ]
    },
    {
      "cell_type": "markdown",
      "metadata": {
        "id": "Rv0HNjgI85F4"
      },
      "source": [
        "## Demo numpy based auto differentiation"
      ]
    },
    {
      "cell_type": "code",
      "execution_count": 2,
      "metadata": {
        "id": "NPC7e6p985F4"
      },
      "outputs": [],
      "source": [
        "import numpy as np\n",
        "\n",
        "class Matmul:\n",
        "    def __init__(self):\n",
        "        self.mem = {}\n",
        "\n",
        "    def forward(self, x, W):\n",
        "        h = np.matmul(x, W)\n",
        "        self.mem={'x': x, 'W':W}\n",
        "        return h\n",
        "\n",
        "    def backward(self, grad_y):\n",
        "        '''\n",
        "        x: shape(N, d)\n",
        "        w: shape(d, d')\n",
        "        grad_y: shape(N, d')\n",
        "        '''\n",
        "        x = self.mem['x']\n",
        "        W = self.mem['W']\n",
        "\n",
        "        ####################\n",
        "        '''计算矩阵乘法的对应的梯度'''\n",
        "        grad_x = np.matmul(grad_y, W.T)\n",
        "        grad_W = np.matmul(x.T, grad_y)\n",
        "        ####################\n",
        "        return grad_x, grad_W\n",
        "\n",
        "\n",
        "class Relu:\n",
        "    def __init__(self):\n",
        "        self.mem = {}\n",
        "\n",
        "    def forward(self, x):\n",
        "        self.mem['x']=x\n",
        "        return np.where(x > 0, x, np.zeros_like(x))\n",
        "\n",
        "    def backward(self, grad_y):\n",
        "        '''\n",
        "        grad_y: same shape as x\n",
        "        '''\n",
        "        ####################\n",
        "        '''计算relu 激活函数对应的梯度'''\n",
        "        x = self.mem['x']\n",
        "        grad_x = np.where(x > 0,grad_y, np.zeros_like(grad_y))\n",
        "        ####################\n",
        "        return grad_x\n",
        "\n",
        "\n",
        "\n",
        "class Softmax:\n",
        "    '''\n",
        "    softmax over last dimention\n",
        "    '''\n",
        "    def __init__(self):\n",
        "        self.epsilon = 1e-12\n",
        "        self.mem = {}\n",
        "\n",
        "    def forward(self, x):\n",
        "        '''\n",
        "        x: shape(N, c)\n",
        "        '''\n",
        "        x_exp = np.exp(x)\n",
        "        partition = np.sum(x_exp, axis=1, keepdims=True)\n",
        "        out = x_exp/(partition+self.epsilon)\n",
        "\n",
        "        self.mem['out'] = out\n",
        "        self.mem['x_exp'] = x_exp\n",
        "        return out\n",
        "\n",
        "    def backward(self, grad_y):\n",
        "        '''\n",
        "        grad_y: same shape as x\n",
        "        '''\n",
        "        s = self.mem['out']\n",
        "        sisj = np.matmul(np.expand_dims(s,axis=2), np.expand_dims(s, axis=1)) # (N, c, c)\n",
        "        g_y_exp = np.expand_dims(grad_y, axis=1)\n",
        "        tmp = np.matmul(g_y_exp, sisj) #(N, 1, c)\n",
        "        tmp = np.squeeze(tmp, axis=1)\n",
        "        tmp = -tmp+grad_y*s\n",
        "        return tmp\n",
        "\n",
        "class Log:\n",
        "    '''\n",
        "    softmax over last dimention\n",
        "    '''\n",
        "    def __init__(self):\n",
        "        self.epsilon = 1e-12\n",
        "        self.mem = {}\n",
        "\n",
        "    def forward(self, x):\n",
        "        '''\n",
        "        x: shape(N, c)\n",
        "        '''\n",
        "        out = np.log(x+self.epsilon)\n",
        "\n",
        "        self.mem['x'] = x\n",
        "        return out\n",
        "\n",
        "    def backward(self, grad_y):\n",
        "        '''\n",
        "        grad_y: same shape as x\n",
        "        '''\n",
        "        x = self.mem['x']\n",
        "\n",
        "        return 1./(x+1e-12) * grad_y\n",
        "\n"
      ]
    },
    {
      "cell_type": "markdown",
      "metadata": {
        "id": "C3rtCfSv85F4"
      },
      "source": [
        "## Gradient check"
      ]
    },
    {
      "cell_type": "code",
      "execution_count": 4,
      "metadata": {
        "colab": {
          "base_uri": "https://localhost:8080/"
        },
        "id": "1ZyuxaeO85F4",
        "outputId": "f8ebf1ef-798b-4b60-989e-084400fc4908"
      },
      "outputs": [
        {
          "output_type": "stream",
          "name": "stdout",
          "text": [
            "(array([[2.10750904, 3.85105936, 0.08236908, 2.89531207, 0.88285227,\n",
            "        1.07071103],\n",
            "       [2.10750904, 3.85105936, 0.08236908, 2.89531207, 0.88285227,\n",
            "        1.07071103],\n",
            "       [2.10750904, 3.85105936, 0.08236908, 2.89531207, 0.88285227,\n",
            "        1.07071103],\n",
            "       [2.10750904, 3.85105936, 0.08236908, 2.89531207, 0.88285227,\n",
            "        1.07071103],\n",
            "       [2.10750904, 3.85105936, 0.08236908, 2.89531207, 0.88285227,\n",
            "        1.07071103]]), array([[ 1.78207453,  1.78207453,  1.78207453,  1.78207453],\n",
            "       [-1.57958138, -1.57958138, -1.57958138, -1.57958138],\n",
            "       [ 3.4828041 ,  3.4828041 ,  3.4828041 ,  3.4828041 ],\n",
            "       [-0.3913958 , -0.3913958 , -0.3913958 , -0.3913958 ],\n",
            "       [ 1.32714192,  1.32714192,  1.32714192,  1.32714192],\n",
            "       [ 0.96097925,  0.96097925,  0.96097925,  0.96097925]]))\n",
            "tf.Tensor(\n",
            "[[2.10750904 3.85105936 0.08236908 2.89531207 0.88285227 1.07071103]\n",
            " [2.10750904 3.85105936 0.08236908 2.89531207 0.88285227 1.07071103]\n",
            " [2.10750904 3.85105936 0.08236908 2.89531207 0.88285227 1.07071103]\n",
            " [2.10750904 3.85105936 0.08236908 2.89531207 0.88285227 1.07071103]\n",
            " [2.10750904 3.85105936 0.08236908 2.89531207 0.88285227 1.07071103]], shape=(5, 6), dtype=float64)\n",
            "[[0. 1. 0. 1. 1. 0.]\n",
            " [1. 1. 1. 1. 0. 1.]\n",
            " [1. 1. 0. 1. 1. 0.]\n",
            " [1. 1. 1. 0. 0. 0.]\n",
            " [0. 0. 1. 1. 0. 0.]]\n",
            "tf.Tensor(\n",
            "[[0. 1. 0. 1. 1. 0.]\n",
            " [1. 1. 1. 1. 0. 1.]\n",
            " [1. 1. 0. 1. 1. 0.]\n",
            " [1. 1. 1. 0. 0. 0.]\n",
            " [0. 0. 1. 1. 0. 0.]], shape=(5, 6), dtype=float64)\n",
            "[[0. 1. 0. 0. 0. 0.]\n",
            " [1. 1. 0. 0. 0. 0.]\n",
            " [0. 0. 0. 1. 0. 0.]\n",
            " [0. 0. 0. 0. 0. 1.]\n",
            " [1. 0. 0. 0. 0. 0.]]\n",
            "[[-4.42835085e-17  2.07027303e-07 -3.99323310e-15 -2.07014845e-07\n",
            "  -2.50778734e-15 -1.24513728e-11]\n",
            " [ 6.78015729e-02  7.08864339e-02 -8.12857239e-03 -1.06444806e-04\n",
            "  -1.76275836e-02 -1.12825406e-01]\n",
            " [-4.48302996e-09 -1.38516350e-03 -1.23040364e-06  1.39827493e-03\n",
            "  -1.18601490e-05 -1.63961000e-08]\n",
            " [-1.40684349e-11 -1.71421745e-02 -1.58845984e-13 -5.15166612e-07\n",
            "  -7.07830801e-06  1.71497679e-02]\n",
            " [ 1.18090114e-04 -1.93933385e-07 -1.27944011e-06 -1.34321313e-09\n",
            "  -8.76289500e-07 -1.15739108e-04]]\n",
            "tf.Tensor(\n",
            "[[-4.42835085e-17  2.07027303e-07 -3.99323310e-15 -2.07014845e-07\n",
            "  -2.50778734e-15 -1.24513728e-11]\n",
            " [ 6.78015729e-02  7.08864339e-02 -8.12857239e-03 -1.06444806e-04\n",
            "  -1.76275836e-02 -1.12825406e-01]\n",
            " [-4.48302996e-09 -1.38516350e-03 -1.23040364e-06  1.39827493e-03\n",
            "  -1.18601490e-05 -1.63961000e-08]\n",
            " [-1.40684349e-11 -1.71421745e-02 -1.58845984e-13 -5.15166612e-07\n",
            "  -7.07830801e-06  1.71497679e-02]\n",
            " [ 1.18090114e-04 -1.93933385e-07 -1.27944011e-06 -1.34321313e-09\n",
            "  -8.76289500e-07 -1.15739108e-04]], shape=(5, 6), dtype=float64)\n",
            "[[ 0.          7.73440486  0.         -0.          0.          0.        ]\n",
            " [-3.75489304 -1.08155077  0.         -0.          0.         -0.        ]\n",
            " [ 0.          0.         -0.         10.23749972  0.         -0.        ]\n",
            " [-0.          0.         -0.          0.          0.          0.82605214]\n",
            " [-3.48345895  0.         -0.         -0.          0.         -0.        ]]\n",
            "tf.Tensor(\n",
            "[[ 0.          7.73440486  0.         -0.          0.          0.        ]\n",
            " [-3.75489304 -1.08155077  0.         -0.          0.         -0.        ]\n",
            " [ 0.          0.         -0.         10.23749972  0.         -0.        ]\n",
            " [-0.          0.         -0.          0.          0.          0.82605214]\n",
            " [-3.48345895  0.         -0.         -0.          0.         -0.        ]], shape=(5, 6), dtype=float64)\n"
          ]
        },
        {
          "output_type": "stream",
          "name": "stderr",
          "text": [
            "<ipython-input-2-ac8c19d4c3f7>:94: RuntimeWarning: invalid value encountered in log\n",
            "  out = np.log(x+self.epsilon)\n"
          ]
        }
      ],
      "source": [
        "import tensorflow as tf\n",
        "\n",
        "x = np.random.normal(size=[5, 6])\n",
        "W = np.random.normal(size=[6, 4])\n",
        "aa = Matmul()\n",
        "out = aa.forward(x, W) # shape(5, 4)\n",
        "grad = aa.backward(np.ones_like(out))\n",
        "print (grad)\n",
        "\n",
        "with tf.GradientTape() as tape:\n",
        "    x, W = tf.constant(x), tf.constant(W)\n",
        "    tape.watch(x)\n",
        "    y = tf.matmul(x, W)\n",
        "    loss = tf.reduce_sum(y)\n",
        "    grads = tape.gradient(loss, x)\n",
        "    print (grads)\n",
        "\n",
        "import tensorflow as tf\n",
        "\n",
        "x = np.random.normal(size=[5, 6])\n",
        "aa = Relu()\n",
        "out = aa.forward(x) # shape(5, 4)\n",
        "grad = aa.backward(np.ones_like(out))\n",
        "print (grad)\n",
        "\n",
        "with tf.GradientTape() as tape:\n",
        "    x= tf.constant(x)\n",
        "    tape.watch(x)\n",
        "    y = tf.nn.relu(x)\n",
        "    loss = tf.reduce_sum(y)\n",
        "    grads = tape.gradient(loss, x)\n",
        "    print (grads)\n",
        "\n",
        "import tensorflow as tf\n",
        "x = np.random.normal(size=[5, 6], scale=5.0, loc=1)\n",
        "label = np.zeros_like(x)\n",
        "label[0, 1]=1.\n",
        "label[1, 0]=1\n",
        "label[1, 1]=1\n",
        "label[2, 3]=1\n",
        "label[3, 5]=1\n",
        "label[4, 0]=1\n",
        "print(label)\n",
        "aa = Softmax()\n",
        "out = aa.forward(x) # shape(5, 6)\n",
        "grad = aa.backward(label)\n",
        "print (grad)\n",
        "\n",
        "with tf.GradientTape() as tape:\n",
        "    x= tf.constant(x)\n",
        "    tape.watch(x)\n",
        "    y = tf.nn.softmax(x)\n",
        "    loss = tf.reduce_sum(y*label)\n",
        "    grads = tape.gradient(loss, x)\n",
        "    print (grads)\n",
        "\n",
        "import tensorflow as tf\n",
        "\n",
        "x = np.random.normal(size=[5, 6])\n",
        "aa = Log()\n",
        "out = aa.forward(x) # shape(5, 4)\n",
        "grad = aa.backward(label)\n",
        "print (grad)\n",
        "\n",
        "with tf.GradientTape() as tape:\n",
        "    x= tf.constant(x)\n",
        "    tape.watch(x)\n",
        "    y = tf.math.log(x)\n",
        "    loss = tf.reduce_sum(y*label)\n",
        "    grads = tape.gradient(loss, x)\n",
        "    print (grads)"
      ]
    },
    {
      "cell_type": "markdown",
      "metadata": {
        "id": "A_yPUCQw85F5"
      },
      "source": [
        "# Final Gradient Check"
      ]
    },
    {
      "cell_type": "code",
      "execution_count": 5,
      "metadata": {
        "colab": {
          "base_uri": "https://localhost:8080/"
        },
        "id": "id6Z1ED485F5",
        "outputId": "1aeb2aa9-0437-47e7-8dde-7c00121119bf"
      },
      "outputs": [
        {
          "output_type": "stream",
          "name": "stdout",
          "text": [
            "[[ 0.          6.71266148  0.          0.          0.          0.        ]\n",
            " [14.13199505  0.          0.          0.          0.          0.        ]\n",
            " [ 0.          0.          0.          4.13552348  0.          0.        ]\n",
            " [ 0.          0.          0.          0.          0.          1.03300609]\n",
            " [11.84864412  0.          0.          0.          0.          0.        ]]\n",
            "----------------------------------------\n",
            "[[ 0.          6.71266148  0.          0.          0.          0.        ]\n",
            " [14.13199505  0.          0.          0.          0.          0.        ]\n",
            " [ 0.          0.          0.          4.13552348  0.          0.        ]\n",
            " [ 0.          0.          0.          0.          0.          1.03300609]\n",
            " [11.84864412  0.          0.          0.          0.          0.        ]]\n"
          ]
        }
      ],
      "source": [
        "import tensorflow as tf\n",
        "\n",
        "label = np.zeros_like(x)\n",
        "label[0, 1]=1.\n",
        "label[1, 0]=1\n",
        "label[2, 3]=1\n",
        "label[3, 5]=1\n",
        "label[4, 0]=1\n",
        "\n",
        "x = np.random.normal(size=[5, 6])\n",
        "W1 = np.random.normal(size=[6, 5])\n",
        "W2 = np.random.normal(size=[5, 6])\n",
        "\n",
        "mul_h1 = Matmul()\n",
        "mul_h2 = Matmul()\n",
        "relu = Relu()\n",
        "softmax = Softmax()\n",
        "log = Log()\n",
        "\n",
        "h1 = mul_h1.forward(x, W1) # shape(5, 4)\n",
        "h1_relu = relu.forward(h1)\n",
        "h2 = mul_h2.forward(h1_relu, W2)\n",
        "h2_soft = softmax.forward(h2)\n",
        "h2_log = log.forward(h2_soft)\n",
        "\n",
        "\n",
        "h2_log_grad = log.backward(label)\n",
        "h2_soft_grad = softmax.backward(h2_log_grad)\n",
        "h2_grad, W2_grad = mul_h2.backward(h2_soft_grad)\n",
        "h1_relu_grad = relu.backward(h2_grad)\n",
        "h1_grad, W1_grad = mul_h1.backward(h1_relu_grad)\n",
        "\n",
        "print(h2_log_grad)\n",
        "print('--'*20)\n",
        "# print(W2_grad)\n",
        "\n",
        "with tf.GradientTape() as tape:\n",
        "    x, W1, W2, label = tf.constant(x), tf.constant(W1), tf.constant(W2), tf.constant(label)\n",
        "    tape.watch(W1)\n",
        "    tape.watch(W2)\n",
        "    h1 = tf.matmul(x, W1)\n",
        "    h1_relu = tf.nn.relu(h1)\n",
        "    h2 = tf.matmul(h1_relu, W2)\n",
        "    prob = tf.nn.softmax(h2)\n",
        "    log_prob = tf.math.log(prob)\n",
        "    loss = tf.reduce_sum(label * log_prob)\n",
        "    grads = tape.gradient(loss, [prob])\n",
        "    print (grads[0].numpy())"
      ]
    },
    {
      "cell_type": "markdown",
      "metadata": {
        "id": "CqL6PBJL85F5"
      },
      "source": [
        "## 建立模型"
      ]
    },
    {
      "cell_type": "code",
      "execution_count": 6,
      "metadata": {
        "id": "KvVgH-cg85F5"
      },
      "outputs": [],
      "source": [
        "class myModel:\n",
        "    def __init__(self):\n",
        "\n",
        "        self.W1 = np.random.normal(size=[28*28+1, 100])\n",
        "        self.W2 = np.random.normal(size=[100, 10])\n",
        "\n",
        "        self.mul_h1 = Matmul()\n",
        "        self.mul_h2 = Matmul()\n",
        "        self.relu = Relu()\n",
        "        self.softmax = Softmax()\n",
        "        self.log = Log()\n",
        "\n",
        "\n",
        "    def forward(self, x):\n",
        "        x = x.reshape(-1, 28*28)\n",
        "        bias = np.ones(shape=[x.shape[0], 1])\n",
        "        x = np.concatenate([x, bias], axis=1)\n",
        "\n",
        "        self.h1 = self.mul_h1.forward(x, self.W1) # shape(5, 4)\n",
        "        self.h1_relu = self.relu.forward(self.h1)\n",
        "        self.h2 = self.mul_h2.forward(self.h1_relu, self.W2)\n",
        "        self.h2_soft = self.softmax.forward(self.h2)\n",
        "        self.h2_log = self.log.forward(self.h2_soft)\n",
        "\n",
        "    def backward(self, label):\n",
        "        self.h2_log_grad = self.log.backward(-label)\n",
        "        self.h2_soft_grad = self.softmax.backward(self.h2_log_grad)\n",
        "        self.h2_grad, self.W2_grad = self.mul_h2.backward(self.h2_soft_grad)\n",
        "        self.h1_relu_grad = self.relu.backward(self.h2_grad)\n",
        "        self.h1_grad, self.W1_grad = self.mul_h1.backward(self.h1_relu_grad)\n",
        "\n",
        "model = myModel()\n"
      ]
    },
    {
      "cell_type": "markdown",
      "metadata": {
        "id": "8_pr2-_P85F5"
      },
      "source": [
        "## 计算 loss"
      ]
    },
    {
      "cell_type": "code",
      "execution_count": 7,
      "metadata": {
        "id": "KO7ej4at85F5"
      },
      "outputs": [],
      "source": [
        "def compute_loss(log_prob, labels):\n",
        "     return np.mean(np.sum(-log_prob*labels, axis=1))\n",
        "\n",
        "\n",
        "def compute_accuracy(log_prob, labels):\n",
        "    predictions = np.argmax(log_prob, axis=1)\n",
        "    truth = np.argmax(labels, axis=1)\n",
        "    return np.mean(predictions==truth)\n",
        "\n",
        "def train_one_step(model, x, y):\n",
        "    model.forward(x)\n",
        "    model.backward(y)\n",
        "    model.W1 -= 1e-5* model.W1_grad\n",
        "    model.W2 -= 1e-5* model.W2_grad\n",
        "    loss = compute_loss(model.h2_log, y)\n",
        "    accuracy = compute_accuracy(model.h2_log, y)\n",
        "    return loss, accuracy\n",
        "\n",
        "def test(model, x, y):\n",
        "    model.forward(x)\n",
        "    loss = compute_loss(model.h2_log, y)\n",
        "    accuracy = compute_accuracy(model.h2_log, y)\n",
        "    return loss, accuracy"
      ]
    },
    {
      "cell_type": "markdown",
      "metadata": {
        "id": "Pyq57aJy85F5"
      },
      "source": [
        "## 实际训练"
      ]
    },
    {
      "cell_type": "code",
      "execution_count": 8,
      "metadata": {
        "colab": {
          "base_uri": "https://localhost:8080/"
        },
        "id": "wR4Y4ZqU85F5",
        "outputId": "9f168642-b549-4e08-b204-fcee0890f954"
      },
      "outputs": [
        {
          "output_type": "stream",
          "name": "stdout",
          "text": [
            "Downloading data from https://storage.googleapis.com/tensorflow/tf-keras-datasets/mnist.npz\n",
            "\u001b[1m11490434/11490434\u001b[0m \u001b[32m━━━━━━━━━━━━━━━━━━━━\u001b[0m\u001b[37m\u001b[0m \u001b[1m0s\u001b[0m 0us/step\n",
            "epoch 0 : loss 24.679712790607326 ; accuracy 0.07925\n",
            "epoch 1 : loss 23.51321122427748 ; accuracy 0.1079\n",
            "epoch 2 : loss 21.323837216338823 ; accuracy 0.167\n",
            "epoch 3 : loss 19.36628776227509 ; accuracy 0.2342\n",
            "epoch 4 : loss 18.235008487053253 ; accuracy 0.28123333333333334\n",
            "epoch 5 : loss 17.46577532393395 ; accuracy 0.30766666666666664\n",
            "epoch 6 : loss 16.9687405465746 ; accuracy 0.3322333333333333\n",
            "epoch 7 : loss 15.644575575398449 ; accuracy 0.3784166666666667\n",
            "epoch 8 : loss 15.192726876072914 ; accuracy 0.39421666666666666\n",
            "epoch 9 : loss 14.728335071919158 ; accuracy 0.41255\n",
            "epoch 10 : loss 14.225045020110214 ; accuracy 0.4186666666666667\n",
            "epoch 11 : loss 14.082303462662171 ; accuracy 0.4366\n",
            "epoch 12 : loss 13.708790178062731 ; accuracy 0.44325\n",
            "epoch 13 : loss 13.243284249521086 ; accuracy 0.47331666666666666\n",
            "epoch 14 : loss 12.176706607571475 ; accuracy 0.5091666666666667\n",
            "epoch 15 : loss 11.931236343188743 ; accuracy 0.5246833333333333\n",
            "epoch 16 : loss 11.70368817578459 ; accuracy 0.5305666666666666\n",
            "epoch 17 : loss 11.656840652128173 ; accuracy 0.5377333333333333\n",
            "epoch 18 : loss 11.356121885414682 ; accuracy 0.5477833333333333\n",
            "epoch 19 : loss 11.280119879023248 ; accuracy 0.5537333333333333\n",
            "epoch 20 : loss 11.122979107783788 ; accuracy 0.5580666666666667\n",
            "epoch 21 : loss 11.042046493269801 ; accuracy 0.5635666666666667\n",
            "epoch 22 : loss 10.938602699354488 ; accuracy 0.5671666666666667\n",
            "epoch 23 : loss 10.868831017114132 ; accuracy 0.5715333333333333\n",
            "epoch 24 : loss 10.79851868684601 ; accuracy 0.5734\n",
            "epoch 25 : loss 10.747016210286695 ; accuracy 0.5763666666666667\n",
            "epoch 26 : loss 10.69278901329027 ; accuracy 0.5780833333333333\n",
            "epoch 27 : loss 10.647794667600326 ; accuracy 0.5805333333333333\n",
            "epoch 28 : loss 10.599271156351067 ; accuracy 0.5822\n",
            "epoch 29 : loss 10.559633497369305 ; accuracy 0.58445\n",
            "epoch 30 : loss 10.51652249803556 ; accuracy 0.5857\n",
            "epoch 31 : loss 10.481462617570967 ; accuracy 0.5876166666666667\n",
            "epoch 32 : loss 10.443596535355553 ; accuracy 0.5886833333333333\n",
            "epoch 33 : loss 10.411224393372912 ; accuracy 0.59035\n",
            "epoch 34 : loss 10.37713355394314 ; accuracy 0.5917333333333333\n",
            "epoch 35 : loss 10.346508493075245 ; accuracy 0.5929333333333333\n",
            "epoch 36 : loss 10.313980580680195 ; accuracy 0.5943666666666667\n",
            "epoch 37 : loss 10.284402509194086 ; accuracy 0.59535\n",
            "epoch 38 : loss 10.253444768933065 ; accuracy 0.5967333333333333\n",
            "epoch 39 : loss 10.225002247042966 ; accuracy 0.5975666666666667\n",
            "epoch 40 : loss 10.194587113734705 ; accuracy 0.5989666666666666\n",
            "epoch 41 : loss 10.165523621558712 ; accuracy 0.5995\n",
            "epoch 42 : loss 10.136720090948476 ; accuracy 0.6012833333333333\n",
            "epoch 43 : loss 10.108509871870512 ; accuracy 0.60195\n",
            "epoch 44 : loss 10.079662389878107 ; accuracy 0.6030333333333333\n",
            "epoch 45 : loss 10.048351390737556 ; accuracy 0.60325\n",
            "epoch 46 : loss 10.014024048629915 ; accuracy 0.6048833333333333\n",
            "epoch 47 : loss 9.97175048084726 ; accuracy 0.6048\n",
            "epoch 48 : loss 9.91732200917493 ; accuracy 0.6065166666666667\n",
            "epoch 49 : loss 9.833705406197678 ; accuracy 0.6067833333333333\n",
            "test loss 9.653612658767758 ; accuracy 0.6102\n"
          ]
        }
      ],
      "source": [
        "train_data, test_data = mnist_dataset()\n",
        "train_label = np.zeros(shape=[train_data[0].shape[0], 10])\n",
        "test_label = np.zeros(shape=[test_data[0].shape[0], 10])\n",
        "train_label[np.arange(train_data[0].shape[0]), np.array(train_data[1])] = 1.\n",
        "test_label[np.arange(test_data[0].shape[0]), np.array(test_data[1])] = 1.\n",
        "\n",
        "for epoch in range(50):\n",
        "    loss, accuracy = train_one_step(model, train_data[0], train_label)\n",
        "    print('epoch', epoch, ': loss', loss, '; accuracy', accuracy)\n",
        "loss, accuracy = test(model, test_data[0], test_label)\n",
        "\n",
        "print('test loss', loss, '; accuracy', accuracy)"
      ]
    },
    {
      "cell_type": "code",
      "source": [],
      "metadata": {
        "id": "_5Pj_53ZsEq4"
      },
      "execution_count": null,
      "outputs": []
    }
  ],
  "metadata": {
    "kernelspec": {
      "display_name": "Python 3",
      "language": "python",
      "name": "python3"
    },
    "language_info": {
      "codemirror_mode": {
        "name": "ipython",
        "version": 3
      },
      "file_extension": ".py",
      "mimetype": "text/x-python",
      "name": "python",
      "nbconvert_exporter": "python",
      "pygments_lexer": "ipython3",
      "version": "3.7.0"
    },
    "colab": {
      "provenance": []
    }
  },
  "nbformat": 4,
  "nbformat_minor": 0
}