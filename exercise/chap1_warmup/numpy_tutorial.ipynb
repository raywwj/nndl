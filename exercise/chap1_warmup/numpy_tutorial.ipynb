{
  "cells": [
    {
      "cell_type": "markdown",
      "metadata": {
        "id": "HypjMX_PbQxu"
      },
      "source": [
        "#                                           numpy 练习题"
      ]
    },
    {
      "cell_type": "markdown",
      "metadata": {
        "collapsed": true,
        "id": "Deph6Wz5bQxv"
      },
      "source": []
    },
    {
      "cell_type": "markdown",
      "metadata": {
        "id": "I7hNX9iabQxv"
      },
      "source": [
        "### numpy 的array操作"
      ]
    },
    {
      "cell_type": "markdown",
      "metadata": {
        "id": "WqzLhHLUbQxv"
      },
      "source": [
        "#### 1.导入numpy库"
      ]
    },
    {
      "cell_type": "code",
      "execution_count": 1,
      "metadata": {
        "collapsed": true,
        "id": "ndLg-s9rbQxw"
      },
      "outputs": [],
      "source": [
        "import numpy as np"
      ]
    },
    {
      "cell_type": "markdown",
      "metadata": {
        "id": "wtaM1hBzbQxw"
      },
      "source": [
        "#### 2.建立一个一维数组 a 初始化为[4,5,6], (1)输出a 的类型（type）(2)输出a的各维度的大小（shape）(3)输出 a的第一个元素（值为4）"
      ]
    },
    {
      "cell_type": "code",
      "execution_count": 2,
      "metadata": {
        "colab": {
          "base_uri": "https://localhost:8080/"
        },
        "collapsed": true,
        "id": "JzNJ2E1SbQxw",
        "outputId": "84e7ab2c-34b3-404f-df04-39961108dd64"
      },
      "outputs": [
        {
          "name": "stdout",
          "output_type": "stream",
          "text": [
            "type(a): <class 'numpy.ndarray'>\n",
            "a.shape: (3,)\n",
            "a[0]: 4\n"
          ]
        }
      ],
      "source": [
        "a = np.array([4,5,6])\n",
        "print(\"type(a):\", type(a))\n",
        "print(\"a.shape:\", a.shape)\n",
        "print(\"a[0]:\", a[0])"
      ]
    },
    {
      "cell_type": "markdown",
      "metadata": {
        "id": "7FsdI4jNbQxw"
      },
      "source": [
        "#### 3.建立一个二维数组 b,初始化为 [ [4, 5, 6],[1, 2, 3]] (1)输出各维度的大小（shape）(2)输出 b(0,0)，b(0,1),b(1,1) 这三个元素（对应值分别为4,5,2）"
      ]
    },
    {
      "cell_type": "code",
      "execution_count": 3,
      "metadata": {
        "colab": {
          "base_uri": "https://localhost:8080/"
        },
        "collapsed": true,
        "id": "XWPlkXlCbQxw",
        "outputId": "e8f6190d-934c-4af3-d62b-f7c744ee9cd2"
      },
      "outputs": [
        {
          "name": "stdout",
          "output_type": "stream",
          "text": [
            "b.shape: (2, 3)\n",
            "4 5 2\n"
          ]
        }
      ],
      "source": [
        "b = np.array([[4,5,6],[1,2,3]])\n",
        "print(\"b.shape:\", b.shape)\n",
        "print(b[0,0], b[0,1], b[1,1])"
      ]
    },
    {
      "cell_type": "markdown",
      "metadata": {
        "id": "HJ0doz5KbQxw"
      },
      "source": [
        "#### 4.  (1)建立一个全0矩阵 a, 大小为 3x3; 类型为整型（提示: dtype = int）(2)建立一个全1矩阵b,大小为4x5;  (3)建立一个单位矩阵c ,大小为4x4; (4)生成一个随机数矩阵d,大小为 3x2."
      ]
    },
    {
      "cell_type": "code",
      "execution_count": 7,
      "metadata": {
        "colab": {
          "base_uri": "https://localhost:8080/"
        },
        "collapsed": true,
        "id": "eHpUAcU-bQxw",
        "outputId": "5e0b4625-8894-4c81-e9d9-57328421dfb0"
      },
      "outputs": [
        {
          "name": "stdout",
          "output_type": "stream",
          "text": [
            "[[0 0 0]\n",
            " [0 0 0]\n",
            " [0 0 0]]\n",
            "[[1. 1. 1. 1. 1.]\n",
            " [1. 1. 1. 1. 1.]\n",
            " [1. 1. 1. 1. 1.]\n",
            " [1. 1. 1. 1. 1.]]\n",
            "[[1. 0. 0. 0.]\n",
            " [0. 1. 0. 0.]\n",
            " [0. 0. 1. 0.]\n",
            " [0. 0. 0. 1.]]\n",
            "[[0.14995408 0.59383014]\n",
            " [0.88520983 0.26970518]\n",
            " [0.37255532 0.01145819]]\n"
          ]
        }
      ],
      "source": [
        "m_a = np.zeros((3,3), dtype=int)\n",
        "m_b = np.ones((4,5))\n",
        "m_c = np.eye(4)\n",
        "m_d = np.random.random((3,2))\n",
        "print(m_a)\n",
        "print(m_b)\n",
        "print(m_c)\n",
        "print(m_d)"
      ]
    },
    {
      "cell_type": "markdown",
      "metadata": {
        "id": "AcRKaCO7bQxx"
      },
      "source": [
        "#### 5. 建立一个数组 a,(值为[[1, 2, 3, 4], [5, 6, 7, 8], [9, 10, 11, 12]] ) ,(1)打印a; (2)输出  下标为(2,3),(0,0) 这两个数组元素的值"
      ]
    },
    {
      "cell_type": "code",
      "execution_count": 8,
      "metadata": {
        "colab": {
          "base_uri": "https://localhost:8080/"
        },
        "collapsed": true,
        "id": "X9rLe4sEbQxx",
        "outputId": "f5242df4-21d0-4d92-d483-f1ff95c7be70"
      },
      "outputs": [
        {
          "name": "stdout",
          "output_type": "stream",
          "text": [
            "a: [[ 1  2  3  4]\n",
            " [ 5  6  7  8]\n",
            " [ 9 10 11 12]]\n",
            "12 1\n"
          ]
        }
      ],
      "source": [
        "a = np.array([[1,2,3,4],[5,6,7,8],[9,10,11,12]])\n",
        "print(\"a:\", a)\n",
        "print(a[2,3], a[0,0])"
      ]
    },
    {
      "cell_type": "markdown",
      "metadata": {
        "id": "uzRLCazJbQxx"
      },
      "source": [
        "#### 6.把上一题的 a数组的 0到1行 2到3列，放到b里面去，（此处不需要从新建立a,直接调用即可）(1),输出b;(2) 输出b 的（0,0）这个元素的值"
      ]
    },
    {
      "cell_type": "code",
      "execution_count": 9,
      "metadata": {
        "colab": {
          "base_uri": "https://localhost:8080/"
        },
        "collapsed": true,
        "id": "Rn85LkE6bQxx",
        "outputId": "b6a00dd3-d847-48bb-b4b6-d6e00a345194"
      },
      "outputs": [
        {
          "name": "stdout",
          "output_type": "stream",
          "text": [
            "[[3 4]\n",
            " [7 8]]\n",
            "3\n"
          ]
        }
      ],
      "source": [
        "b = a[0:2,2:4]\n",
        "print(b)\n",
        "print(b[0,0])"
      ]
    },
    {
      "cell_type": "markdown",
      "metadata": {
        "id": "656ThfnPbQxx"
      },
      "source": [
        " #### 7. 把第5题中数组a的最后两行所有元素放到 c中，（提示： a[1:2, :]）(1)输出 c ; (2) 输出 c 中第一行的最后一个元素（提示，使用 -1                 表示最后一个元素）"
      ]
    },
    {
      "cell_type": "code",
      "execution_count": 11,
      "metadata": {
        "colab": {
          "base_uri": "https://localhost:8080/"
        },
        "collapsed": true,
        "id": "0VhocCA7bQxx",
        "outputId": "7192e758-b588-4e15-a13c-fb8e7355ca59"
      },
      "outputs": [
        {
          "name": "stdout",
          "output_type": "stream",
          "text": [
            "[[ 5  6  7  8]\n",
            " [ 9 10 11 12]]\n",
            "8\n"
          ]
        }
      ],
      "source": [
        "c = a[-2:,:]\n",
        "print(c)\n",
        "print(c[0,-1])"
      ]
    },
    {
      "cell_type": "markdown",
      "metadata": {
        "id": "EbpiEFRwbQxx"
      },
      "source": [
        "#### 8.建立数组a,初始化a为[[1, 2], [3, 4], [5, 6]]，输出 （0,0）（1,1）（2,0）这三个元素（提示： 使用 print(a[[0, 1, 2], [0, 1, 0]]) ）"
      ]
    },
    {
      "cell_type": "code",
      "execution_count": 12,
      "metadata": {
        "colab": {
          "base_uri": "https://localhost:8080/"
        },
        "collapsed": true,
        "id": "NP2ID-bVbQxx",
        "outputId": "a2e523c0-1738-4136-9e76-74efc936829c"
      },
      "outputs": [
        {
          "name": "stdout",
          "output_type": "stream",
          "text": [
            "[1 4 5]\n"
          ]
        }
      ],
      "source": [
        "a = np.array([[1,2],[3,4],[5,6]])\n",
        "# print(a[0,0], a[1,1], a[2,0])\n",
        "print(a[[0,1,2],[0,1,0]])"
      ]
    },
    {
      "cell_type": "markdown",
      "metadata": {
        "id": "gfrspvD3bQxx"
      },
      "source": [
        "#### 9.建立矩阵a ,初始化为[[1, 2, 3], [4, 5, 6], [7, 8, 9], [10, 11, 12]]，输出(0,0),(1,2),(2,0),(3,1) (提示使用 b = np.array([0, 2, 0, 1])                     print(a[np.arange(4), b]))"
      ]
    },
    {
      "cell_type": "code",
      "execution_count": 13,
      "metadata": {
        "colab": {
          "base_uri": "https://localhost:8080/"
        },
        "collapsed": true,
        "id": "XF7n3vwEbQxx",
        "outputId": "8ba40531-4574-467c-a20a-610987f3a62c"
      },
      "outputs": [
        {
          "name": "stdout",
          "output_type": "stream",
          "text": [
            "1 6 7 11\n",
            "[ 1  6  7 11]\n"
          ]
        }
      ],
      "source": [
        "a = np.array([[1,2,3],[4,5,6],[7,8,9],[10,11,12]])\n",
        "print(a[0,0], a[1,2], a[2,0], a[3,1])\n",
        "b = np.array([0,2,0,1])\n",
        "print(a[np.arange(4), b])"
      ]
    },
    {
      "cell_type": "markdown",
      "metadata": {
        "id": "UbdAm461bQxx"
      },
      "source": [
        "#### 10.对9 中输出的那四个元素，每个都加上10，然后重新输出矩阵a.(提示： a[np.arange(4), b] += 10 ）"
      ]
    },
    {
      "cell_type": "code",
      "execution_count": 14,
      "metadata": {
        "colab": {
          "base_uri": "https://localhost:8080/"
        },
        "collapsed": true,
        "id": "CS6W_aYWbQxx",
        "outputId": "3acc3037-dbf8-4ae4-a68d-e47726b23857"
      },
      "outputs": [
        {
          "name": "stdout",
          "output_type": "stream",
          "text": [
            "[[11  2  3]\n",
            " [ 4  5 16]\n",
            " [17  8  9]\n",
            " [10 21 12]]\n"
          ]
        }
      ],
      "source": [
        "a[np.arange(4), b] += 10\n",
        "print(a)"
      ]
    },
    {
      "cell_type": "markdown",
      "metadata": {
        "id": "OqYFMldhbQxx"
      },
      "source": [
        "### array 的数学运算"
      ]
    },
    {
      "cell_type": "markdown",
      "metadata": {
        "id": "sgXpETWDbQxx"
      },
      "source": [
        "#### 11.  执行 x = np.array([1, 2])，然后输出 x 的数据类型"
      ]
    },
    {
      "cell_type": "code",
      "execution_count": 15,
      "metadata": {
        "colab": {
          "base_uri": "https://localhost:8080/"
        },
        "collapsed": true,
        "id": "_YHcs-qpbQxx",
        "outputId": "37f1fa59-091d-4a3f-eec0-c7a78c3a23c7"
      },
      "outputs": [
        {
          "name": "stdout",
          "output_type": "stream",
          "text": [
            "int64\n"
          ]
        }
      ],
      "source": [
        "x = np.array([1,2])\n",
        "print(x.dtype)"
      ]
    },
    {
      "cell_type": "markdown",
      "metadata": {
        "id": "QZij1AwgbQxx"
      },
      "source": [
        "#### 12.执行 x = np.array([1.0, 2.0]) ，然后输出 x 的数据类类型"
      ]
    },
    {
      "cell_type": "code",
      "execution_count": 16,
      "metadata": {
        "colab": {
          "base_uri": "https://localhost:8080/"
        },
        "collapsed": true,
        "id": "pglzjdLbbQxy",
        "outputId": "21bc00d5-3dfe-425f-c16e-cf851193ab8f"
      },
      "outputs": [
        {
          "name": "stdout",
          "output_type": "stream",
          "text": [
            "float64\n"
          ]
        }
      ],
      "source": [
        "x = np.array([1.0,2.0])\n",
        "print(x.dtype)"
      ]
    },
    {
      "cell_type": "markdown",
      "metadata": {
        "id": "uG6VcjjpbQxy"
      },
      "source": [
        "#### 13.执行 x = np.array([[1, 2], [3, 4]], dtype=np.float64) ，y = np.array([[5, 6], [7, 8]], dtype=np.float64)，然后输出 x+y ,和 np.add(x,y)"
      ]
    },
    {
      "cell_type": "code",
      "execution_count": 17,
      "metadata": {
        "colab": {
          "base_uri": "https://localhost:8080/"
        },
        "collapsed": true,
        "id": "96lcka9TbQxy",
        "outputId": "6346c876-e184-46d7-f563-e23cf85f0eee"
      },
      "outputs": [
        {
          "name": "stdout",
          "output_type": "stream",
          "text": [
            "[[ 6.  8.]\n",
            " [10. 12.]]\n",
            "[[ 6.  8.]\n",
            " [10. 12.]]\n"
          ]
        }
      ],
      "source": [
        "x = np.array([[1,2],[3,4]], dtype=np.float64)\n",
        "y = np.array([[5,6],[7,8]], dtype=np.float64)\n",
        "print(x+y)\n",
        "print(np.add(x,y))"
      ]
    },
    {
      "cell_type": "markdown",
      "metadata": {
        "id": "oOD4w9OEbQxy"
      },
      "source": [
        "#### 14. 利用 13题目中的x,y 输出 x-y 和 np.subtract(x,y)"
      ]
    },
    {
      "cell_type": "code",
      "execution_count": 19,
      "metadata": {
        "colab": {
          "base_uri": "https://localhost:8080/"
        },
        "collapsed": true,
        "id": "lN9PuhNHbQxy",
        "outputId": "59c62cb2-4733-427f-d5b7-84cd9c494885"
      },
      "outputs": [
        {
          "name": "stdout",
          "output_type": "stream",
          "text": [
            "[[-4. -4.]\n",
            " [-4. -4.]]\n",
            "[[-4. -4.]\n",
            " [-4. -4.]]\n"
          ]
        }
      ],
      "source": [
        "print(x-y)\n",
        "print(np.subtract(x,y))"
      ]
    },
    {
      "cell_type": "markdown",
      "metadata": {
        "id": "stM4qjt-bQxy"
      },
      "source": [
        "#### 15. 利用13题目中的x，y 输出 x*y ,和 np.multiply(x, y) 还有  np.dot(x,y),比较差异。然后自己换一个不是方阵的试试。"
      ]
    },
    {
      "cell_type": "code",
      "execution_count": 25,
      "metadata": {
        "colab": {
          "base_uri": "https://localhost:8080/"
        },
        "collapsed": true,
        "id": "6-hsheoWbQxy",
        "outputId": "01222d31-bd64-4bf6-a713-2b87dfa50225"
      },
      "outputs": [
        {
          "name": "stdout",
          "output_type": "stream",
          "text": [
            "[[ 5. 12.]\n",
            " [21. 32.]]\n",
            "[[ 5. 12.]\n",
            " [21. 32.]]\n",
            "[[19. 22.]\n",
            " [43. 50.]]\n",
            "[[ 0.  2.  6.]\n",
            " [12. 20. 30.]]\n",
            "[[ 0.  2.  6.]\n",
            " [12. 20. 30.]]\n",
            "[[16. 22.]\n",
            " [34. 49.]]\n"
          ]
        }
      ],
      "source": [
        "print(x*y)\n",
        "print(np.multiply(x,y))\n",
        "print(np.dot(x,y))\n",
        "p = np.array([[1,2,3],[4,5,6]], dtype=np.float64)\n",
        "q = np.array([[0,1,2],[3,4,5]], dtype=np.float64)\n",
        "print(p*q)\n",
        "print(np.multiply(p,q))\n",
        "r = np.array([[0,1],[2,3],[4,5]])\n",
        "print(np.dot(p,r))"
      ]
    },
    {
      "cell_type": "markdown",
      "metadata": {
        "id": "K1HPtRibbQxy"
      },
      "source": [
        "#### 16. 利用13题目中的x,y,输出 x / y .(提示 ： 使用函数 np.divide())"
      ]
    },
    {
      "cell_type": "code",
      "execution_count": 26,
      "metadata": {
        "colab": {
          "base_uri": "https://localhost:8080/"
        },
        "id": "b88AdAEObQxy",
        "outputId": "510df069-5a81-4f80-d6e0-922b393d1939"
      },
      "outputs": [
        {
          "name": "stdout",
          "output_type": "stream",
          "text": [
            "[[0.2        0.33333333]\n",
            " [0.42857143 0.5       ]]\n",
            "[[0.2        0.33333333]\n",
            " [0.42857143 0.5       ]]\n"
          ]
        }
      ],
      "source": [
        "print(x/y)\n",
        "print(np.divide(x,y))"
      ]
    },
    {
      "cell_type": "markdown",
      "metadata": {
        "id": "jivSjIHabQxy"
      },
      "source": [
        "#### 17. 利用13题目中的x,输出 x的 开方。(提示： 使用函数 np.sqrt() )"
      ]
    },
    {
      "cell_type": "code",
      "execution_count": 27,
      "metadata": {
        "colab": {
          "base_uri": "https://localhost:8080/"
        },
        "collapsed": true,
        "id": "CDiPj27bbQxy",
        "outputId": "a00b24af-eb87-4cfa-a7a0-796b78b4ab89"
      },
      "outputs": [
        {
          "name": "stdout",
          "output_type": "stream",
          "text": [
            "[[1.         1.41421356]\n",
            " [1.73205081 2.        ]]\n"
          ]
        }
      ],
      "source": [
        "print(np.sqrt(x))"
      ]
    },
    {
      "cell_type": "markdown",
      "metadata": {
        "id": "IhRQTbs-bQxy"
      },
      "source": [
        "#### 18.利用13题目中的x,y ,执行 print(x.dot(y)) 和 print(np.dot(x,y))"
      ]
    },
    {
      "cell_type": "code",
      "execution_count": 28,
      "metadata": {
        "colab": {
          "base_uri": "https://localhost:8080/"
        },
        "collapsed": true,
        "id": "kwm4AiJ5bQx6",
        "outputId": "5abd825d-4f6e-4ca3-d612-48990797e208"
      },
      "outputs": [
        {
          "name": "stdout",
          "output_type": "stream",
          "text": [
            "[[19. 22.]\n",
            " [43. 50.]]\n",
            "[[19. 22.]\n",
            " [43. 50.]]\n"
          ]
        }
      ],
      "source": [
        "print(x.dot(y))\n",
        "print(np.dot(x,y))"
      ]
    },
    {
      "cell_type": "markdown",
      "metadata": {
        "id": "N9G2kWHRbQx6"
      },
      "source": [
        "##### 19.利用13题目中的 x,进行求和。提示：输出三种求和 (1)print(np.sum(x)):   (2)print(np.sum(x，axis =0 ));   (3)print(np.sum(x,axis = 1))"
      ]
    },
    {
      "cell_type": "code",
      "execution_count": 29,
      "metadata": {
        "colab": {
          "base_uri": "https://localhost:8080/"
        },
        "collapsed": true,
        "id": "AnBmyeyqbQx6",
        "outputId": "7c50c32b-c646-4c2d-8415-2332d1158e09"
      },
      "outputs": [
        {
          "name": "stdout",
          "output_type": "stream",
          "text": [
            "10.0\n",
            "[4. 6.]\n",
            "[3. 7.]\n"
          ]
        }
      ],
      "source": [
        "print(np.sum(x))\n",
        "print(np.sum(x, axis=0))\n",
        "print(np.sum(x, axis=1))"
      ]
    },
    {
      "cell_type": "markdown",
      "metadata": {
        "id": "48PDEPofbQx6"
      },
      "source": [
        "#### 20.利用13题目中的 x,进行求平均数（提示：输出三种平均数(1)print(np.mean(x)) (2)print(np.mean(x,axis = 0))(3) print(np.mean(x,axis =1))）"
      ]
    },
    {
      "cell_type": "code",
      "execution_count": 31,
      "metadata": {
        "colab": {
          "base_uri": "https://localhost:8080/"
        },
        "collapsed": true,
        "id": "8hNlKM4YbQx6",
        "outputId": "fb0a5b2b-aea1-48f7-908a-eb0bceb0c1fb"
      },
      "outputs": [
        {
          "name": "stdout",
          "output_type": "stream",
          "text": [
            "2.5\n",
            "[2. 3.]\n",
            "[1.5 3.5]\n"
          ]
        }
      ],
      "source": [
        "print(np.mean(x))\n",
        "print(np.mean(x, axis=0))\n",
        "print(np.mean(x, axis=1))"
      ]
    },
    {
      "cell_type": "markdown",
      "metadata": {
        "id": "MMxlWnF1bQx6"
      },
      "source": [
        "#### 21.利用13题目中的x，对x 进行矩阵转置，然后输出转置后的结果，（提示： x.T 表示对 x 的转置）"
      ]
    },
    {
      "cell_type": "code",
      "execution_count": 32,
      "metadata": {
        "colab": {
          "base_uri": "https://localhost:8080/"
        },
        "collapsed": true,
        "id": "ddQfCAgsbQx6",
        "outputId": "9ff2ff55-0979-42d0-d450-98bdada38182"
      },
      "outputs": [
        {
          "name": "stdout",
          "output_type": "stream",
          "text": [
            "[[1. 3.]\n",
            " [2. 4.]]\n"
          ]
        }
      ],
      "source": [
        "print(x.T)"
      ]
    },
    {
      "cell_type": "markdown",
      "metadata": {
        "collapsed": true,
        "id": "cG7QAWI6bQx6"
      },
      "source": [
        "#### 22.利用13题目中的x,求e的指数（提示： 函数 np.exp()）"
      ]
    },
    {
      "cell_type": "code",
      "execution_count": 33,
      "metadata": {
        "colab": {
          "base_uri": "https://localhost:8080/"
        },
        "collapsed": true,
        "id": "UDzxPm8CbQx6",
        "outputId": "39b5daf4-0b6e-4e9c-b88a-75b9f1b928fd"
      },
      "outputs": [
        {
          "name": "stdout",
          "output_type": "stream",
          "text": [
            "[[ 2.71828183  7.3890561 ]\n",
            " [20.08553692 54.59815003]]\n"
          ]
        }
      ],
      "source": [
        "print(np.exp(x))"
      ]
    },
    {
      "cell_type": "markdown",
      "metadata": {
        "id": "k5nNVEh_bQx7"
      },
      "source": [
        "#### 23.利用13题目中的 x,求值最大的下标（提示(1)print(np.argmax(x)) ,(2) print(np.argmax(x, axis =0))(3)print(np.argmax(x),axis =1))"
      ]
    },
    {
      "cell_type": "code",
      "execution_count": 34,
      "metadata": {
        "colab": {
          "base_uri": "https://localhost:8080/"
        },
        "id": "tsgp3ERnbQx7",
        "outputId": "d5641ae5-7448-4b2c-aec3-942facd39d6d"
      },
      "outputs": [
        {
          "name": "stdout",
          "output_type": "stream",
          "text": [
            "3\n",
            "[1 1]\n",
            "[1 1]\n"
          ]
        }
      ],
      "source": [
        "print(np.argmax(x))\n",
        "print(np.argmax(x, axis=0))\n",
        "print(np.argmax(x, axis=1))"
      ]
    },
    {
      "cell_type": "markdown",
      "metadata": {
        "id": "qCUA5k_JbQx7"
      },
      "source": [
        "#### 24,画图，y=x*x 其中 x = np.arange(0, 100, 0.1) （提示这里用到  matplotlib.pyplot 库）"
      ]
    },
    {
      "cell_type": "code",
      "execution_count": 35,
      "metadata": {
        "colab": {
          "base_uri": "https://localhost:8080/",
          "height": 472
        },
        "collapsed": true,
        "id": "9V7k1sRvbQx7",
        "outputId": "cac6f7af-1201-4b10-968e-e7c2ccc5f276"
      },
      "outputs": [
        {
          "data": {
            "image/png": "[encoded data removed]",
            "text/plain": [
              "<Figure size 640x480 with 1 Axes>"
            ]
          },
          "metadata": {},
          "output_type": "display_data"
        }
      ],
      "source": [
        "import matplotlib.pyplot as plt\n",
        "x = np.arange(0,100,0.1)\n",
        "y = x**2\n",
        "plt.plot(x, y)\n",
        "plt.title('y = x^2')\n",
        "plt.xlabel('x')\n",
        "plt.ylabel('y')\n",
        "plt.show()\n"
      ]
    },
    {
      "cell_type": "markdown",
      "metadata": {
        "id": "xNZQqSNEbQx7"
      },
      "source": [
        "#### 25.画图。画正弦函数和余弦函数， x = np.arange(0, 3 * np.pi, 0.1)(提示：这里用到 np.sin() np.cos() 函数和 matplotlib.pyplot 库)"
      ]
    },
    {
      "cell_type": "code",
      "execution_count": 36,
      "metadata": {
        "colab": {
          "base_uri": "https://localhost:8080/",
          "height": 472
        },
        "collapsed": true,
        "id": "arwbTK9HbQx7",
        "outputId": "cbad89c2-146f-45ab-cab6-6c46ac44311d"
      },
      "outputs": [
        {
          "data": {
            "image/png": "[encoded data removed]",
            "text/plain": [
              "<Figure size 640x480 with 1 Axes>"
            ]
          },
          "metadata": {},
          "output_type": "display_data"
        }
      ],
      "source": [
        "x = np.arange(0, 3*np.pi, 0.1)\n",
        "sin_x = np.sin(x)\n",
        "cos_x = np.cos(x)\n",
        "plt.plot(x, sin_x, label='sin(x)')\n",
        "plt.plot(x, cos_x, label='cos(x)')\n",
        "plt.title(\"sin and cos functions\")\n",
        "plt.xlabel('x')\n",
        "plt.ylabel('y')\n",
        "plt.legend()\n",
        "plt.show()"
      ]
    },
    {
      "cell_type": "code",
      "execution_count": null,
      "metadata": {
        "id": "Soqc_R0ldyIH"
      },
      "outputs": [],
      "source": []
    }
  ],
  "metadata": {
    "anaconda-cloud": {},
    "colab": {
      "provenance": []
    },
    "kernelspec": {
      "display_name": "Python 3",
      "language": "python",
      "name": "python3"
    },
    "language_info": {
      "codemirror_mode": {
        "name": "ipython",
        "version": 3
      },
      "file_extension": ".py",
      "mimetype": "text/x-python",
      "name": "python",
      "nbconvert_exporter": "python",
      "pygments_lexer": "ipython3",
      "version": "3.13.2"
    }
  },
  "nbformat": 4,
  "nbformat_minor": 0
}
